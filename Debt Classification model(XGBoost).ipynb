{
 "cells": [
  {
   "cell_type": "code",
   "execution_count": 1,
   "id": "2b8487a8-7d4c-4fa2-8cb0-69cb1a566de4",
   "metadata": {},
   "outputs": [],
   "source": [
    "import pandas as pd\n",
    "import numpy as np\n",
    "from sklearn.model_selection import train_test_split, cross_val_score\n",
    "import xgboost as xgb\n",
    "from xgboost import XGBClassifier\n",
    "from sklearn.model_selection import train_test_split, GridSearchCV\n",
    "from sklearn.preprocessing import StandardScaler\n",
    "from sklearn.metrics import accuracy_score\n",
    "from sklearn.metrics import classification_report, roc_auc_score, roc_curve, confusion_matrix\n",
    "import seaborn as sns\n",
    "import matplotlib.pyplot as plt"
   ]
  },
  {
   "cell_type": "code",
   "execution_count": 2,
   "id": "4768efc5-4c95-435a-9333-f4d008a5ebbc",
   "metadata": {},
   "outputs": [],
   "source": [
    "# Load the dataset\n",
    "df = pd.read_csv('raw_debt_risk_dataset.csv')"
   ]
  },
  {
   "cell_type": "code",
   "execution_count": 3,
   "id": "5c7cccaa-df2d-457f-9b4c-bb77c3163872",
   "metadata": {},
   "outputs": [
    {
     "name": "stdout",
     "output_type": "stream",
     "text": [
      "   Age  Gender           Race Education Level    Industry  \\\n",
      "0   28    Male  Black African      Bachelor's          IT   \n",
      "1   25    Male  Black African     High School          IT   \n",
      "2   34  Female  Black African      Bachelor's   Education   \n",
      "3   32    Male  Black African         Diploma   Education   \n",
      "4   29  Female  Black African     High School  Healthcare   \n",
      "\n",
      "   Weekly Hours Worked  Salary (ZAR)  Rent (ZAR)  Transport (ZAR)  \\\n",
      "0                   40         33849    13486.41          3876.51   \n",
      "1                   45         14784     4848.72          1950.67   \n",
      "2                   45         22210     6777.67          2278.98   \n",
      "3                   40         12505     4847.14          1619.73   \n",
      "4                   30         19688     6123.94          2068.30   \n",
      "\n",
      "   Groceries (ZAR)  Debt Repayment (ZAR)  Savings (ZAR)  Entertainment (ZAR)  \\\n",
      "0          6558.71              10528.13        2984.29              5747.36   \n",
      "1          2421.23               5176.99        1704.95              2677.12   \n",
      "2          3785.34               7310.35        4045.64              3630.95   \n",
      "3          2006.83               3731.77        2178.79              2310.46   \n",
      "4          3001.48               9716.86        4445.83              3509.54   \n",
      "\n",
      "   Total Expenses (ZAR)  Debt-to-Income Ratio (%) Debt Risk Level  \n",
      "0              40197.12                     31.10       High Risk  \n",
      "1              17074.73                     35.02       High Risk  \n",
      "2              23783.30                     32.91       High Risk  \n",
      "3              14515.92                     29.84   Moderate Risk  \n",
      "4              24420.11                     49.35   Critical Risk  \n"
     ]
    }
   ],
   "source": [
    "print(df.head())"
   ]
  },
  {
   "cell_type": "code",
   "execution_count": 4,
   "id": "981fc8b3-8e97-4342-b8dd-ed9d00ad25e0",
   "metadata": {},
   "outputs": [],
   "source": [
    "# Feature Engineering\n",
    "df['Log_Salary'] = np.log1p(df['Salary (ZAR)'])  \n",
    "df['Log_Total_Expenses'] = np.log1p(df['Total Expenses (ZAR)'])"
   ]
  },
  {
   "cell_type": "code",
   "execution_count": 5,
   "id": "d0b874bf-0b19-454e-bd20-e9bb751213e8",
   "metadata": {},
   "outputs": [],
   "source": [
    "# Ratio-Based Features\n",
    "df['Expense_to_Salary_Ratio'] = df['Total Expenses (ZAR)'] / df['Salary (ZAR)']\n",
    "df['Savings_to_Salary_Ratio'] = df['Savings (ZAR)'] / df['Salary (ZAR)']\n",
    "df['Debt_to_Salary_Ratio'] = df['Debt Repayment (ZAR)'] / df['Salary (ZAR)']"
   ]
  },
  {
   "cell_type": "code",
   "execution_count": 6,
   "id": "e9063613-563b-477f-8f33-cecd12832c28",
   "metadata": {},
   "outputs": [],
   "source": [
    "# Binning\n",
    "df['Salary_Bin'] = pd.cut(df['Salary (ZAR)'], bins=[0, 10000, 25000, 50000, np.inf], \n",
    "                          labels=['Low', 'Moderate', 'High', 'Very High'])\n",
    "df['Expenses_Bin'] = pd.cut(df['Total Expenses (ZAR)'], bins=[0, 10000, 25000, 50000, np.inf], \n",
    "                            labels=['Low', 'Moderate', 'High', 'Very High'])"
   ]
  },
  {
   "cell_type": "code",
   "execution_count": 7,
   "id": "0ced9ce2-7b69-4fab-a19e-e4ba2083305a",
   "metadata": {},
   "outputs": [],
   "source": [
    "# Interaction Features\n",
    "df['Salary_DTI_Interaction'] = df['Salary (ZAR)'] * df['Debt-to-Income Ratio (%)']"
   ]
  },
  {
   "cell_type": "code",
   "execution_count": 8,
   "id": "440d6684-6b00-44f0-af07-cae926e7c132",
   "metadata": {},
   "outputs": [
    {
     "name": "stdout",
     "output_type": "stream",
     "text": [
      "   Age  Gender           Race Education Level    Industry  \\\n",
      "0   28    Male  Black African      Bachelor's          IT   \n",
      "1   25    Male  Black African     High School          IT   \n",
      "2   34  Female  Black African      Bachelor's   Education   \n",
      "3   32    Male  Black African         Diploma   Education   \n",
      "4   29  Female  Black African     High School  Healthcare   \n",
      "\n",
      "   Weekly Hours Worked  Salary (ZAR)  Rent (ZAR)  Transport (ZAR)  \\\n",
      "0                   40         33849    13486.41          3876.51   \n",
      "1                   45         14784     4848.72          1950.67   \n",
      "2                   45         22210     6777.67          2278.98   \n",
      "3                   40         12505     4847.14          1619.73   \n",
      "4                   30         19688     6123.94          2068.30   \n",
      "\n",
      "   Groceries (ZAR)  ...  Debt-to-Income Ratio (%)  Debt Risk Level  \\\n",
      "0          6558.71  ...                     31.10        High Risk   \n",
      "1          2421.23  ...                     35.02        High Risk   \n",
      "2          3785.34  ...                     32.91        High Risk   \n",
      "3          2006.83  ...                     29.84    Moderate Risk   \n",
      "4          3001.48  ...                     49.35    Critical Risk   \n",
      "\n",
      "   Log_Salary  Log_Total_Expenses  Expense_to_Salary_Ratio  \\\n",
      "0   10.429694           10.601576                 1.187542   \n",
      "1    9.601368            9.745413                 1.154947   \n",
      "2   10.008343           10.076781                 1.070837   \n",
      "3    9.433964            9.583070                 1.160809   \n",
      "4    9.887815           10.103203                 1.240355   \n",
      "\n",
      "  Savings_to_Salary_Ratio  Debt_to_Salary_Ratio  Salary_Bin  Expenses_Bin  \\\n",
      "0                0.088165              0.311032        High          High   \n",
      "1                0.115324              0.350175    Moderate      Moderate   \n",
      "2                0.182154              0.329147    Moderate      Moderate   \n",
      "3                0.174234              0.298422    Moderate      Moderate   \n",
      "4                0.225814              0.493542    Moderate      Moderate   \n",
      "\n",
      "   Salary_DTI_Interaction  \n",
      "0              1052703.90  \n",
      "1               517735.68  \n",
      "2               730931.10  \n",
      "3               373149.20  \n",
      "4               971602.80  \n",
      "\n",
      "[5 rows x 24 columns]\n"
     ]
    }
   ],
   "source": [
    "print(df.head())"
   ]
  },
  {
   "cell_type": "code",
   "execution_count": 9,
   "id": "479066da-c168-4d01-8385-e523d61d0240",
   "metadata": {},
   "outputs": [],
   "source": [
    "# Feature selection (removing columns that strongly correlate with the target)\n",
    "label_related_features = ['Salary (ZAR)', 'Total Expenses (ZAR)', 'Debt-to-Income Ratio (%)']\n",
    "df = df.drop(columns=label_related_features)"
   ]
  },
  {
   "cell_type": "code",
   "execution_count": 10,
   "id": "3c2b82d1-d81d-4fd2-afc9-266ba9494257",
   "metadata": {},
   "outputs": [],
   "source": [
    "X = df.drop(columns=['Debt Risk Level'])  # Features (without the target)\n",
    "y = df['Debt Risk Level']  # Target "
   ]
  },
  {
   "cell_type": "code",
   "execution_count": 11,
   "id": "15d00775-42c0-4205-8227-8fb245eb71c0",
   "metadata": {},
   "outputs": [],
   "source": [
    "# Distinctly Identify categorical columns\n",
    "categorical_cols = ['Gender', 'Race', 'Education Level', 'Industry', 'Salary_Bin', 'Expenses_Bin']"
   ]
  },
  {
   "cell_type": "code",
   "execution_count": 12,
   "id": "68356d40-d240-44f7-9f1b-343d76cd2907",
   "metadata": {},
   "outputs": [],
   "source": [
    "# One-hot encode the categorical columns\n",
    "X_encoded = pd.get_dummies(X, columns=categorical_cols, drop_first=True)  # drop_first avoids multicollinearity"
   ]
  },
  {
   "cell_type": "code",
   "execution_count": 13,
   "id": "8b7f9859-c8d8-421c-b6d9-608cb435cb26",
   "metadata": {},
   "outputs": [
    {
     "name": "stdout",
     "output_type": "stream",
     "text": [
      "   Age  Weekly Hours Worked  Rent (ZAR)  Transport (ZAR)  Groceries (ZAR)  \\\n",
      "0   28                   40    13486.41          3876.51          6558.71   \n",
      "1   25                   45     4848.72          1950.67          2421.23   \n",
      "2   34                   45     6777.67          2278.98          3785.34   \n",
      "3   32                   40     4847.14          1619.73          2006.83   \n",
      "4   29                   30     6123.94          2068.30          3001.48   \n",
      "\n",
      "   Debt Repayment (ZAR)  Savings (ZAR)  Entertainment (ZAR)  Log_Salary  \\\n",
      "0              10528.13        2984.29              5747.36   10.429694   \n",
      "1               5176.99        1704.95              2677.12    9.601368   \n",
      "2               7310.35        4045.64              3630.95   10.008343   \n",
      "3               3731.77        2178.79              2310.46    9.433964   \n",
      "4               9716.86        4445.83              3509.54    9.887815   \n",
      "\n",
      "   Log_Total_Expenses  ...  Industry_Healthcare  Industry_IT  Industry_Mining  \\\n",
      "0           10.601576  ...                False         True            False   \n",
      "1            9.745413  ...                False         True            False   \n",
      "2           10.076781  ...                False        False            False   \n",
      "3            9.583070  ...                False        False            False   \n",
      "4           10.103203  ...                 True        False            False   \n",
      "\n",
      "   Industry_Retail  Salary_Bin_Moderate  Salary_Bin_High  \\\n",
      "0            False                False             True   \n",
      "1            False                 True            False   \n",
      "2            False                 True            False   \n",
      "3            False                 True            False   \n",
      "4            False                 True            False   \n",
      "\n",
      "   Salary_Bin_Very High  Expenses_Bin_Moderate  Expenses_Bin_High  \\\n",
      "0                 False                  False               True   \n",
      "1                 False                   True              False   \n",
      "2                 False                   True              False   \n",
      "3                 False                   True              False   \n",
      "4                 False                   True              False   \n",
      "\n",
      "   Expenses_Bin_Very High  \n",
      "0                   False  \n",
      "1                   False  \n",
      "2                   False  \n",
      "3                   False  \n",
      "4                   False  \n",
      "\n",
      "[5 rows x 34 columns]\n"
     ]
    }
   ],
   "source": [
    "print(X_encoded.head())"
   ]
  },
  {
   "cell_type": "code",
   "execution_count": 14,
   "id": "50a10ab4-a01f-48e7-ac7d-35a5eca06b18",
   "metadata": {},
   "outputs": [
    {
     "name": "stdout",
     "output_type": "stream",
     "text": [
      "   Age  Weekly Hours Worked  Rent (ZAR)  Transport (ZAR)  Groceries (ZAR)  \\\n",
      "0   28                   40       13486             3876             6558   \n",
      "1   25                   45        4848             1950             2421   \n",
      "2   34                   45        6777             2278             3785   \n",
      "3   32                   40        4847             1619             2006   \n",
      "4   29                   30        6123             2068             3001   \n",
      "\n",
      "   Debt Repayment (ZAR)  Savings (ZAR)  Entertainment (ZAR)  Log_Salary  \\\n",
      "0                 10528           2984                 5747          10   \n",
      "1                  5176           1704                 2677           9   \n",
      "2                  7310           4045                 3630          10   \n",
      "3                  3731           2178                 2310           9   \n",
      "4                  9716           4445                 3509           9   \n",
      "\n",
      "   Log_Total_Expenses  ...  Industry_Healthcare  Industry_IT  Industry_Mining  \\\n",
      "0                  10  ...                    0            1                0   \n",
      "1                   9  ...                    0            1                0   \n",
      "2                  10  ...                    0            0                0   \n",
      "3                   9  ...                    0            0                0   \n",
      "4                  10  ...                    1            0                0   \n",
      "\n",
      "   Industry_Retail  Salary_Bin_Moderate  Salary_Bin_High  \\\n",
      "0                0                    0                1   \n",
      "1                0                    1                0   \n",
      "2                0                    1                0   \n",
      "3                0                    1                0   \n",
      "4                0                    1                0   \n",
      "\n",
      "   Salary_Bin_Very High  Expenses_Bin_Moderate  Expenses_Bin_High  \\\n",
      "0                     0                      0                  1   \n",
      "1                     0                      1                  0   \n",
      "2                     0                      1                  0   \n",
      "3                     0                      1                  0   \n",
      "4                     0                      1                  0   \n",
      "\n",
      "   Expenses_Bin_Very High  \n",
      "0                       0  \n",
      "1                       0  \n",
      "2                       0  \n",
      "3                       0  \n",
      "4                       0  \n",
      "\n",
      "[5 rows x 34 columns]\n"
     ]
    }
   ],
   "source": [
    "# Convert boolean columns to 1/0\n",
    "X_encoded = X_encoded.astype(int)\n",
    "\n",
    "# Check the first few rows to verify change\n",
    "print(X_encoded.head())\n"
   ]
  },
  {
   "cell_type": "code",
   "execution_count": 17,
   "id": "3a72fff8-6248-498a-920d-79f3ec896535",
   "metadata": {},
   "outputs": [
    {
     "name": "stdout",
     "output_type": "stream",
     "text": [
      "Accuracy: 0.8755\n",
      "\n",
      "Classification Report:\n",
      "               precision    recall  f1-score   support\n",
      "\n",
      "           0       0.89      0.90      0.90       820\n",
      "           1       0.64      0.62      0.63       273\n",
      "           2       0.90      0.88      0.89       203\n",
      "           3       0.89      0.91      0.90       338\n",
      "           4       0.98      0.96      0.97       366\n",
      "\n",
      "    accuracy                           0.88      2000\n",
      "   macro avg       0.86      0.86      0.86      2000\n",
      "weighted avg       0.87      0.88      0.87      2000\n",
      "\n"
     ]
    }
   ],
   "source": [
    "from sklearn.preprocessing import LabelEncoder\n",
    "from sklearn.model_selection import train_test_split\n",
    "\n",
    "# Split the data into training and testing sets\n",
    "X_train, X_test, y_train, y_test = train_test_split(\n",
    "    X_encoded, y, test_size=0.2, random_state=42, stratify=y\n",
    ")\n",
    "\n",
    "# Encode categorical target variable\n",
    "label_encoder = LabelEncoder()\n",
    "y_train_encoded = label_encoder.fit_transform(y_train)\n",
    "y_test_encoded = label_encoder.transform(y_test)\n",
    "\n",
    "# Initialize and train XGBoost\n",
    "xgb_clf = XGBClassifier(random_state=42)\n",
    "xgb_clf.fit(X_train, y_train_encoded)\n",
    "\n",
    "# Predictions\n",
    "y_pred = xgb_clf.predict(X_test)\n",
    "\n",
    "# Convert predictions back to original labels (if needed)\n",
    "y_pred_labels = label_encoder.inverse_transform(y_pred)\n",
    "\n",
    "# Model evaluation\n",
    "print(\"Accuracy:\", accuracy_score(y_test_encoded, y_pred))\n",
    "print(\"\\nClassification Report:\\n\", classification_report(y_test_encoded, y_pred))"
   ]
  },
  {
   "cell_type": "code",
   "execution_count": 19,
   "id": "34a51ed4-4174-4775-a53c-c9ac43aa253d",
   "metadata": {},
   "outputs": [
    {
     "name": "stdout",
     "output_type": "stream",
     "text": [
      "                        Feature  Importance\n",
      "10      Expense_to_Salary_Ratio    0.528394\n",
      "8                    Log_Salary    0.068726\n",
      "13       Salary_DTI_Interaction    0.067296\n",
      "28          Salary_Bin_Moderate    0.057122\n",
      "5          Debt Repayment (ZAR)    0.036087\n",
      "29              Salary_Bin_High    0.030239\n",
      "9            Log_Total_Expenses    0.026535\n",
      "4               Groceries (ZAR)    0.022269\n",
      "2                    Rent (ZAR)    0.021738\n",
      "7           Entertainment (ZAR)    0.019077\n",
      "31        Expenses_Bin_Moderate    0.013028\n",
      "3               Transport (ZAR)    0.012451\n",
      "30         Salary_Bin_Very High    0.011118\n",
      "32            Expenses_Bin_High    0.006947\n",
      "22           Industry_Education    0.005967\n",
      "26              Industry_Mining    0.005719\n",
      "16            Race_Indian/Asian    0.005638\n",
      "6                 Savings (ZAR)    0.005538\n",
      "23             Industry_Finance    0.005266\n",
      "24          Industry_Healthcare    0.004846\n",
      "18      Education Level_Diploma    0.004716\n",
      "33       Expenses_Bin_Very High    0.004580\n",
      "0                           Age    0.004275\n",
      "17                   Race_White    0.004244\n",
      "15                Race_Coloured    0.004213\n",
      "14                  Gender_Male    0.004151\n",
      "1           Weekly Hours Worked    0.003850\n",
      "19  Education Level_High School    0.003583\n",
      "25                  Industry_IT    0.003264\n",
      "21          Education Level_PhD    0.003073\n",
      "27              Industry_Retail    0.003063\n",
      "20     Education Level_Master's    0.002989\n",
      "11      Savings_to_Salary_Ratio    0.000000\n",
      "12         Debt_to_Salary_Ratio    0.000000\n"
     ]
    }
   ],
   "source": [
    "feature_importances = xgb_clf.feature_importances_\n",
    "feature_names = X_encoded.columns  \n",
    "feature_importance_df = pd.DataFrame({\n",
    "    'Feature': feature_names,\n",
    "    'Importance': feature_importances\n",
    "}).sort_values(by='Importance', ascending=False)\n",
    "\n",
    "print(feature_importance_df)\n"
   ]
  },
  {
   "cell_type": "code",
   "execution_count": 20,
   "id": "55827734-1cf8-494d-9a48-140032fe83b5",
   "metadata": {},
   "outputs": [
    {
     "data": {
      "image/png": "[encoded data removed]",
      "text/plain": [
       "<Figure size 1000x800 with 1 Axes>"
      ]
     },
     "metadata": {},
     "output_type": "display_data"
    }
   ],
   "source": [
    "# feature importances\n",
    "importances = xgb_clf.feature_importances_\n",
    "feature_names = X_encoded.columns\n",
    "indices = np.argsort(importances)[-20:]  # Top 20 features\n",
    "\n",
    "# Plot\n",
    "plt.figure(figsize=(10, 8))\n",
    "plt.barh(range(len(indices)), importances[indices], align='center')\n",
    "plt.yticks(range(len(indices)), [feature_names[i] for i in indices])\n",
    "plt.xlabel('Feature Importance')\n",
    "plt.title('Top 20 Important Features')\n",
    "plt.show()"
   ]
  },
  {
   "cell_type": "code",
   "execution_count": null,
   "id": "44e32314-b208-4134-b567-c4443b1e342d",
   "metadata": {},
   "outputs": [],
   "source": []
  }
 ],
 "metadata": {
  "kernelspec": {
   "display_name": "Python 3 (ipykernel)",
   "language": "python",
   "name": "python3"
  },
  "language_info": {
   "codemirror_mode": {
    "name": "ipython",
    "version": 3
   },
   "file_extension": ".py",
   "mimetype": "text/x-python",
   "name": "python",
   "nbconvert_exporter": "python",
   "pygments_lexer": "ipython3",
   "version": "3.13.1"
  }
 },
 "nbformat": 4,
 "nbformat_minor": 5
}
